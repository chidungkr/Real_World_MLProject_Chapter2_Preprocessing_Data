{
 "cells": [
  {
   "cell_type": "markdown",
   "metadata": {},
   "source": [
    "## Chapter 2: Tiền xử lí số liệu (Preprocessing Data) \n",
    "\n",
    "Trong chương này chúng ta sẽ thực hành một số thao tác tiền xử lí số liệu đơn giản cho Machine Learning. "
   ]
  },
  {
   "cell_type": "markdown",
   "metadata": {},
   "source": [
    "### 2.1 Chuyển hóa biến có bản chất định tính về định lượng"
   ]
  },
  {
   "cell_type": "code",
   "execution_count": 79,
   "metadata": {},
   "outputs": [
    {
     "data": {
      "text/plain": [
       "array(['male', 'female', 'male', 'male', 'female', 'male', 'female',\n",
       "       'female'],\n",
       "      dtype='<U6')"
      ]
     },
     "execution_count": 79,
     "metadata": {},
     "output_type": "execute_result"
    }
   ],
   "source": [
    "# Gọi gói và hàm cần thiết\n",
    "import numpy as np\n",
    "from numpy import array\n",
    "\n",
    "# Tạo một biến định  tính mô tả thông tin về giới tính: \n",
    "cat_data = array([\"male\", \"female\", \"male\", \"male\", \"female\", \"male\", \"female\", \"female\"])\n",
    "\n",
    "# Xem qua: \n",
    "cat_data"
   ]
  },
  {
   "cell_type": "code",
   "execution_count": 80,
   "metadata": {
    "collapsed": true
   },
   "outputs": [],
   "source": [
    "# Viết một hàm chuyển hóa biểu thị rằng 1 ứng với female và ngược lại: \n",
    "from numpy import unique\n",
    "\n",
    "def convert_to_num(data):\n",
    "    # Liệt kê nhãn của biến định tính: \n",
    "    categories = unique(data)\n",
    "    # Tạo một array trống: \n",
    "    features = []\n",
    "    # Viết một vòng lặp for loop tạo biến nhị phân 0 - 1: \n",
    "    for cat in categories:\n",
    "        binary = (data == cat)\n",
    "        features.append(binary.astype(\"int\"))\n",
    "    return features"
   ]
  },
  {
   "cell_type": "code",
   "execution_count": 81,
   "metadata": {},
   "outputs": [
    {
     "data": {
      "text/plain": [
       "[array([0, 1, 0, 0, 1, 0, 1, 1]), array([1, 0, 1, 1, 0, 1, 0, 0])]"
      ]
     },
     "execution_count": 81,
     "metadata": {},
     "output_type": "execute_result"
    }
   ],
   "source": [
    "# Test hàm vừa viết cho cat_data: \n",
    "convert_to_num(cat_data)"
   ]
  },
  {
   "cell_type": "markdown",
   "metadata": {},
   "source": [
    "### 2.2 Chuẩn hóa scale 0 - 1\n"
   ]
  },
  {
   "cell_type": "code",
   "execution_count": 82,
   "metadata": {
    "collapsed": true
   },
   "outputs": [],
   "source": [
    "# Viết hàm chuẩn hóa scale 0 - 1 (cách tính: https://en.wikipedia.org/wiki/Feature_scaling): \n",
    "def normalize_01(data):\n",
    "    # Tìm LN, NN: \n",
    "    nho_nhat = data.min()\n",
    "    lon_nhat = data.max(0)\n",
    "    # Thực hiện chuyển hóa:\n",
    "    chuan_hoa = (data - nho_nhat) / (lon_nhat - nho_nhat)\n",
    "    return chuan_hoa"
   ]
  },
  {
   "cell_type": "code",
   "execution_count": 83,
   "metadata": {},
   "outputs": [
    {
     "data": {
      "text/plain": [
       "array([ 0.3,  0. ,  0.5,  0.6,  1. ])"
      ]
     },
     "execution_count": 83,
     "metadata": {},
     "output_type": "execute_result"
    }
   ],
   "source": [
    "# Sử dụng hàm vừa viết để test một array: \n",
    "num_data = array([1, -2, 3, 4, 8])\n",
    "normalize_01(num_data)"
   ]
  },
  {
   "cell_type": "markdown",
   "metadata": {},
   "source": [
    "### 2.3 chuẩn hóa theo mean "
   ]
  },
  {
   "cell_type": "code",
   "execution_count": 84,
   "metadata": {},
   "outputs": [],
   "source": [
    "# Viết hàm chuẩn hóa theo mean (cách tính: https://en.wikipedia.org/wiki/Feature_scaling): \n",
    "from numpy import mean, std\n",
    "\n",
    "def chuan_hoa_mean(df): \n",
    "    return (df - df.mean()) / df.std()"
   ]
  },
  {
   "cell_type": "code",
   "execution_count": 85,
   "metadata": {},
   "outputs": [
    {
     "data": {
      "text/plain": [
       "array([-0.54370988, -1.44989302,  0.06041221,  0.36247326,  1.57071744])"
      ]
     },
     "execution_count": 85,
     "metadata": {},
     "output_type": "execute_result"
    }
   ],
   "source": [
    "# Test hàm vừa có: \n",
    "chuan_hoa_mean(num_data)"
   ]
  },
  {
   "cell_type": "markdown",
   "metadata": {},
   "source": [
    "### 2.4 Ứng dụng: hồi quy chuẩn hóa (Standardized Coefficient)"
   ]
  },
  {
   "cell_type": "code",
   "execution_count": 86,
   "metadata": {},
   "outputs": [],
   "source": [
    "# Load các gói và các hàm cần thiết: \n",
    "import statsmodels.api as sm\n",
    "import statsmodels.formula.api as smf\n",
    "import numpy as np"
   ]
  },
  {
   "cell_type": "code",
   "execution_count": 87,
   "metadata": {},
   "outputs": [
    {
     "data": {
      "text/html": [
       "<div>\n",
       "<style scoped>\n",
       "    .dataframe tbody tr th:only-of-type {\n",
       "        vertical-align: middle;\n",
       "    }\n",
       "\n",
       "    .dataframe tbody tr th {\n",
       "        vertical-align: top;\n",
       "    }\n",
       "\n",
       "    .dataframe thead th {\n",
       "        text-align: right;\n",
       "    }\n",
       "</style>\n",
       "<table border=\"1\" class=\"dataframe\">\n",
       "  <thead>\n",
       "    <tr style=\"text-align: right;\">\n",
       "      <th></th>\n",
       "      <th>dept</th>\n",
       "      <th>Region</th>\n",
       "      <th>Department</th>\n",
       "      <th>Crime_pers</th>\n",
       "      <th>Crime_prop</th>\n",
       "      <th>Literacy</th>\n",
       "      <th>Donations</th>\n",
       "      <th>Infants</th>\n",
       "      <th>Suicides</th>\n",
       "      <th>MainCity</th>\n",
       "      <th>...</th>\n",
       "      <th>Crime_parents</th>\n",
       "      <th>Infanticide</th>\n",
       "      <th>Donation_clergy</th>\n",
       "      <th>Lottery</th>\n",
       "      <th>Desertion</th>\n",
       "      <th>Instruction</th>\n",
       "      <th>Prostitutes</th>\n",
       "      <th>Distance</th>\n",
       "      <th>Area</th>\n",
       "      <th>Pop1831</th>\n",
       "    </tr>\n",
       "  </thead>\n",
       "  <tbody>\n",
       "    <tr>\n",
       "      <th>0</th>\n",
       "      <td>1</td>\n",
       "      <td>E</td>\n",
       "      <td>Ain</td>\n",
       "      <td>28870</td>\n",
       "      <td>15890</td>\n",
       "      <td>37</td>\n",
       "      <td>5098</td>\n",
       "      <td>33120</td>\n",
       "      <td>35039</td>\n",
       "      <td>2:Med</td>\n",
       "      <td>...</td>\n",
       "      <td>71</td>\n",
       "      <td>60</td>\n",
       "      <td>69</td>\n",
       "      <td>41</td>\n",
       "      <td>55</td>\n",
       "      <td>46</td>\n",
       "      <td>13</td>\n",
       "      <td>218.372</td>\n",
       "      <td>5762</td>\n",
       "      <td>346.03</td>\n",
       "    </tr>\n",
       "    <tr>\n",
       "      <th>1</th>\n",
       "      <td>2</td>\n",
       "      <td>N</td>\n",
       "      <td>Aisne</td>\n",
       "      <td>26226</td>\n",
       "      <td>5521</td>\n",
       "      <td>51</td>\n",
       "      <td>8901</td>\n",
       "      <td>14572</td>\n",
       "      <td>12831</td>\n",
       "      <td>2:Med</td>\n",
       "      <td>...</td>\n",
       "      <td>4</td>\n",
       "      <td>82</td>\n",
       "      <td>36</td>\n",
       "      <td>38</td>\n",
       "      <td>82</td>\n",
       "      <td>24</td>\n",
       "      <td>327</td>\n",
       "      <td>65.945</td>\n",
       "      <td>7369</td>\n",
       "      <td>513.00</td>\n",
       "    </tr>\n",
       "    <tr>\n",
       "      <th>2</th>\n",
       "      <td>3</td>\n",
       "      <td>C</td>\n",
       "      <td>Allier</td>\n",
       "      <td>26747</td>\n",
       "      <td>7925</td>\n",
       "      <td>13</td>\n",
       "      <td>10973</td>\n",
       "      <td>17044</td>\n",
       "      <td>114121</td>\n",
       "      <td>2:Med</td>\n",
       "      <td>...</td>\n",
       "      <td>46</td>\n",
       "      <td>42</td>\n",
       "      <td>76</td>\n",
       "      <td>66</td>\n",
       "      <td>16</td>\n",
       "      <td>85</td>\n",
       "      <td>34</td>\n",
       "      <td>161.927</td>\n",
       "      <td>7340</td>\n",
       "      <td>298.26</td>\n",
       "    </tr>\n",
       "    <tr>\n",
       "      <th>3</th>\n",
       "      <td>4</td>\n",
       "      <td>E</td>\n",
       "      <td>Basses-Alpes</td>\n",
       "      <td>12935</td>\n",
       "      <td>7289</td>\n",
       "      <td>46</td>\n",
       "      <td>2733</td>\n",
       "      <td>23018</td>\n",
       "      <td>14238</td>\n",
       "      <td>1:Sm</td>\n",
       "      <td>...</td>\n",
       "      <td>70</td>\n",
       "      <td>12</td>\n",
       "      <td>37</td>\n",
       "      <td>80</td>\n",
       "      <td>32</td>\n",
       "      <td>29</td>\n",
       "      <td>2</td>\n",
       "      <td>351.399</td>\n",
       "      <td>6925</td>\n",
       "      <td>155.90</td>\n",
       "    </tr>\n",
       "    <tr>\n",
       "      <th>4</th>\n",
       "      <td>5</td>\n",
       "      <td>E</td>\n",
       "      <td>Hautes-Alpes</td>\n",
       "      <td>17488</td>\n",
       "      <td>8174</td>\n",
       "      <td>69</td>\n",
       "      <td>6962</td>\n",
       "      <td>23076</td>\n",
       "      <td>16171</td>\n",
       "      <td>1:Sm</td>\n",
       "      <td>...</td>\n",
       "      <td>22</td>\n",
       "      <td>23</td>\n",
       "      <td>64</td>\n",
       "      <td>79</td>\n",
       "      <td>35</td>\n",
       "      <td>7</td>\n",
       "      <td>1</td>\n",
       "      <td>320.280</td>\n",
       "      <td>5549</td>\n",
       "      <td>129.10</td>\n",
       "    </tr>\n",
       "  </tbody>\n",
       "</table>\n",
       "<p>5 rows × 23 columns</p>\n",
       "</div>"
      ],
      "text/plain": [
       "   dept Region    Department  Crime_pers  Crime_prop  Literacy  Donations  \\\n",
       "0     1      E           Ain       28870       15890        37       5098   \n",
       "1     2      N         Aisne       26226        5521        51       8901   \n",
       "2     3      C        Allier       26747        7925        13      10973   \n",
       "3     4      E  Basses-Alpes       12935        7289        46       2733   \n",
       "4     5      E  Hautes-Alpes       17488        8174        69       6962   \n",
       "\n",
       "   Infants  Suicides MainCity   ...     Crime_parents  Infanticide  \\\n",
       "0    33120     35039    2:Med   ...                71           60   \n",
       "1    14572     12831    2:Med   ...                 4           82   \n",
       "2    17044    114121    2:Med   ...                46           42   \n",
       "3    23018     14238     1:Sm   ...                70           12   \n",
       "4    23076     16171     1:Sm   ...                22           23   \n",
       "\n",
       "   Donation_clergy  Lottery  Desertion  Instruction  Prostitutes  Distance  \\\n",
       "0               69       41         55           46           13   218.372   \n",
       "1               36       38         82           24          327    65.945   \n",
       "2               76       66         16           85           34   161.927   \n",
       "3               37       80         32           29            2   351.399   \n",
       "4               64       79         35            7            1   320.280   \n",
       "\n",
       "   Area  Pop1831  \n",
       "0  5762   346.03  \n",
       "1  7369   513.00  \n",
       "2  7340   298.26  \n",
       "3  6925   155.90  \n",
       "4  5549   129.10  \n",
       "\n",
       "[5 rows x 23 columns]"
      ]
     },
     "execution_count": 87,
     "metadata": {},
     "output_type": "execute_result"
    }
   ],
   "source": [
    "# Load bộ dữ liệu cần sử dụng: \n",
    "data = sm.datasets.get_rdataset(\"Guerry\", \"HistData\").data\n",
    "\n",
    "# Và xem qua: \n",
    "data.head()"
   ]
  },
  {
   "cell_type": "code",
   "execution_count": 88,
   "metadata": {},
   "outputs": [
    {
     "name": "stdout",
     "output_type": "stream",
     "text": [
      "                            OLS Regression Results                            \n",
      "==============================================================================\n",
      "Dep. Variable:                Lottery   R-squared:                       0.325\n",
      "Model:                            OLS   Adj. R-squared:                  0.308\n",
      "Method:                 Least Squares   F-statistic:                     19.95\n",
      "Date:                Tue, 19 Dec 2017   Prob (F-statistic):           8.40e-08\n",
      "Time:                        19:15:08   Log-Likelihood:                -381.36\n",
      "No. Observations:                  86   AIC:                             768.7\n",
      "Df Residuals:                      83   BIC:                             776.1\n",
      "Df Model:                           2                                         \n",
      "Covariance Type:            nonrobust                                         \n",
      "==============================================================================\n",
      "                 coef    std err          t      P>|t|      [0.025      0.975]\n",
      "------------------------------------------------------------------------------\n",
      "Intercept     89.8137      7.683     11.690      0.000      74.532     105.095\n",
      "Literacy      -0.4683      0.130     -3.596      0.001      -0.727      -0.209\n",
      "Pop1831       -0.0738      0.015     -4.854      0.000      -0.104      -0.044\n",
      "==============================================================================\n",
      "Omnibus:                        3.172   Durbin-Watson:                   1.981\n",
      "Prob(Omnibus):                  0.205   Jarque-Bera (JB):                2.810\n",
      "Skew:                          -0.350   Prob(JB):                        0.245\n",
      "Kurtosis:                       2.456   Cond. No.                     1.40e+03\n",
      "==============================================================================\n",
      "\n",
      "Warnings:\n",
      "[1] Standard Errors assume that the covariance matrix of the errors is correctly specified.\n",
      "[2] The condition number is large, 1.4e+03. This might indicate that there are\n",
      "strong multicollinearity or other numerical problems.\n"
     ]
    }
   ],
   "source": [
    "# Thực hiện hồi quy OLS với biến phụ thuộc  là Lottery, hai  biến độc lập là Literacy và Pop1831: \n",
    "hoi_quy = smf.ols(\"Lottery ~ Literacy + Pop1831\", data = dat).fit()\n",
    "\n",
    "# Xem kết quả:\n",
    "print(hoi_quy.summary())"
   ]
  },
  {
   "cell_type": "markdown",
   "metadata": {},
   "source": [
    "Ở trên chúng ta thực hiện hồi quy OLS bình thường. Muốn thực hiện hồi quy chuẩn hóa chúng ta trước hết cần chuẩn hóa các biến rồi sau đó mới thực hiện hồi quy chuẩn hóa: "
   ]
  },
  {
   "cell_type": "code",
   "execution_count": 89,
   "metadata": {},
   "outputs": [
    {
     "data": {
      "text/html": [
       "<div>\n",
       "<style scoped>\n",
       "    .dataframe tbody tr th:only-of-type {\n",
       "        vertical-align: middle;\n",
       "    }\n",
       "\n",
       "    .dataframe tbody tr th {\n",
       "        vertical-align: top;\n",
       "    }\n",
       "\n",
       "    .dataframe thead th {\n",
       "        text-align: right;\n",
       "    }\n",
       "</style>\n",
       "<table border=\"1\" class=\"dataframe\">\n",
       "  <thead>\n",
       "    <tr style=\"text-align: right;\">\n",
       "      <th></th>\n",
       "      <th>Lottery</th>\n",
       "      <th>Literacy</th>\n",
       "      <th>Pop1831</th>\n",
       "    </tr>\n",
       "  </thead>\n",
       "  <tbody>\n",
       "    <tr>\n",
       "      <th>count</th>\n",
       "      <td>8.600000e+01</td>\n",
       "      <td>8.600000e+01</td>\n",
       "      <td>8.600000e+01</td>\n",
       "    </tr>\n",
       "    <tr>\n",
       "      <th>mean</th>\n",
       "      <td>-1.290957e-17</td>\n",
       "      <td>7.358455e-17</td>\n",
       "      <td>-5.912583e-16</td>\n",
       "    </tr>\n",
       "    <tr>\n",
       "      <th>std</th>\n",
       "      <td>1.000000e+00</td>\n",
       "      <td>1.000000e+00</td>\n",
       "      <td>1.000000e+00</td>\n",
       "    </tr>\n",
       "    <tr>\n",
       "      <th>min</th>\n",
       "      <td>-1.702044e+00</td>\n",
       "      <td>-1.569669e+00</td>\n",
       "      <td>-1.677197e+00</td>\n",
       "    </tr>\n",
       "    <tr>\n",
       "      <th>25%</th>\n",
       "      <td>-8.510218e-01</td>\n",
       "      <td>-8.209959e-01</td>\n",
       "      <td>-6.427309e-01</td>\n",
       "    </tr>\n",
       "    <tr>\n",
       "      <th>50%</th>\n",
       "      <td>0.000000e+00</td>\n",
       "      <td>-7.232264e-02</td>\n",
       "      <td>-2.182036e-01</td>\n",
       "    </tr>\n",
       "    <tr>\n",
       "      <th>75%</th>\n",
       "      <td>8.510218e-01</td>\n",
       "      <td>7.195433e-01</td>\n",
       "      <td>4.421293e-01</td>\n",
       "    </tr>\n",
       "    <tr>\n",
       "      <th>max</th>\n",
       "      <td>1.702044e+00</td>\n",
       "      <td>2.000926e+00</td>\n",
       "      <td>4.108903e+00</td>\n",
       "    </tr>\n",
       "  </tbody>\n",
       "</table>\n",
       "</div>"
      ],
      "text/plain": [
       "            Lottery      Literacy       Pop1831\n",
       "count  8.600000e+01  8.600000e+01  8.600000e+01\n",
       "mean  -1.290957e-17  7.358455e-17 -5.912583e-16\n",
       "std    1.000000e+00  1.000000e+00  1.000000e+00\n",
       "min   -1.702044e+00 -1.569669e+00 -1.677197e+00\n",
       "25%   -8.510218e-01 -8.209959e-01 -6.427309e-01\n",
       "50%    0.000000e+00 -7.232264e-02 -2.182036e-01\n",
       "75%    8.510218e-01  7.195433e-01  4.421293e-01\n",
       "max    1.702044e+00  2.000926e+00  4.108903e+00"
      ]
     },
     "execution_count": 89,
     "metadata": {},
     "output_type": "execute_result"
    }
   ],
   "source": [
    "# Sử dụng hàm chuẩn hóa đã viết ở trên:\n",
    "\n",
    "data_small = data[[\"Lottery\", \"Literacy\", \"Pop1831\"]]\n",
    "data_chuan_hoa = data_small.apply(chuan_hoa_mean)\n",
    "\n",
    "# Có thể kiểm tra để thấy rằng mean = 0 và sd = 1: \n",
    "data_chuan_hoa.describe()"
   ]
  },
  {
   "cell_type": "code",
   "execution_count": 90,
   "metadata": {},
   "outputs": [
    {
     "name": "stdout",
     "output_type": "stream",
     "text": [
      "                            OLS Regression Results                            \n",
      "==============================================================================\n",
      "Dep. Variable:                Lottery   R-squared:                       0.325\n",
      "Model:                            OLS   Adj. R-squared:                  0.308\n",
      "Method:                 Least Squares   F-statistic:                     19.95\n",
      "Date:                Tue, 19 Dec 2017   Prob (F-statistic):           8.40e-08\n",
      "Time:                        19:15:08   Log-Likelihood:                -104.64\n",
      "No. Observations:                  86   AIC:                             215.3\n",
      "Df Residuals:                      83   BIC:                             222.7\n",
      "Df Model:                           2                                         \n",
      "Covariance Type:            nonrobust                                         \n",
      "==============================================================================\n",
      "                 coef    std err          t      P>|t|      [0.025      0.975]\n",
      "------------------------------------------------------------------------------\n",
      "Intercept  -1.388e-17      0.090  -1.55e-16      1.000      -0.178       0.178\n",
      "Literacy      -0.3256      0.091     -3.596      0.001      -0.506      -0.146\n",
      "Pop1831       -0.4395      0.091     -4.854      0.000      -0.620      -0.259\n",
      "==============================================================================\n",
      "Omnibus:                        3.172   Durbin-Watson:                   1.981\n",
      "Prob(Omnibus):                  0.205   Jarque-Bera (JB):                2.810\n",
      "Skew:                          -0.350   Prob(JB):                        0.245\n",
      "Kurtosis:                       2.456   Cond. No.                         1.09\n",
      "==============================================================================\n",
      "\n",
      "Warnings:\n",
      "[1] Standard Errors assume that the covariance matrix of the errors is correctly specified.\n"
     ]
    }
   ],
   "source": [
    "# Thực hiện hồi quy chuẩn hóa: \n",
    "\n",
    "hoi_quy_chuan_hoa = smf.ols(\"Lottery ~ Literacy + Pop1831\", data = data_chuan_hoa).fit()\n",
    "\n",
    "# Xem kết quả:\n",
    "print(hoi_quy_chuan_hoa.summary())\n"
   ]
  },
  {
   "cell_type": "code",
   "execution_count": 91,
   "metadata": {},
   "outputs": [
    {
     "name": "stdout",
     "output_type": "stream",
     "text": [
      "                            OLS Regression Results                            \n",
      "==============================================================================\n",
      "Dep. Variable:                Lottery   R-squared:                       0.325\n",
      "Model:                            OLS   Adj. R-squared:                  0.309\n",
      "Method:                 Least Squares   F-statistic:                     20.19\n",
      "Date:                Tue, 19 Dec 2017   Prob (F-statistic):           6.90e-08\n",
      "Time:                        19:15:08   Log-Likelihood:                -104.64\n",
      "No. Observations:                  86   AIC:                             213.3\n",
      "Df Residuals:                      84   BIC:                             218.2\n",
      "Df Model:                           2                                         \n",
      "Covariance Type:            nonrobust                                         \n",
      "==============================================================================\n",
      "                 coef    std err          t      P>|t|      [0.025      0.975]\n",
      "------------------------------------------------------------------------------\n",
      "Literacy      -0.3256      0.090     -3.617      0.001      -0.505      -0.147\n",
      "Pop1831       -0.4395      0.090     -4.883      0.000      -0.619      -0.261\n",
      "==============================================================================\n",
      "Omnibus:                        3.172   Durbin-Watson:                   1.981\n",
      "Prob(Omnibus):                  0.205   Jarque-Bera (JB):                2.810\n",
      "Skew:                          -0.350   Prob(JB):                        0.245\n",
      "Kurtosis:                       2.456   Cond. No.                         1.09\n",
      "==============================================================================\n",
      "\n",
      "Warnings:\n",
      "[1] Standard Errors assume that the covariance matrix of the errors is correctly specified.\n"
     ]
    }
   ],
   "source": [
    "# Đây chính là hồi quy không có hệ số chặn nên có thể thực hiện  như  sau: \n",
    "hoi_quy_chuan_hoa = smf.ols(\"Lottery ~ 0 + Literacy + Pop1831\", data = data_chuan_hoa).fit()\n",
    "\n",
    "# Xem kết quả:\n",
    "print(hoi_quy_chuan_hoa.summary())"
   ]
  }
 ],
 "metadata": {
  "kernelspec": {
   "display_name": "Python 3",
   "language": "python",
   "name": "python3"
  },
  "language_info": {
   "codemirror_mode": {
    "name": "ipython",
    "version": 3
   },
   "file_extension": ".py",
   "mimetype": "text/x-python",
   "name": "python",
   "nbconvert_exporter": "python",
   "pygments_lexer": "ipython3",
   "version": "3.6.3"
  }
 },
 "nbformat": 4,
 "nbformat_minor": 2
}
